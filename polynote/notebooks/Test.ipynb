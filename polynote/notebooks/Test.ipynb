{
  "metadata" : {
    "config" : {
      "dependencies" : {
        
      },
      "exclusions" : [
      ],
      "repositories" : [
        {
          "maven" : {
            "base" : "https://oss.sonatype.org/content/repositories/snapshots/"
          }
        }
      ],
      "sparkConfig" : {
        "spark.master" : "local[*]"
      },
      "env" : {
        
      }
    },
    "language_info" : {
      "name" : "scala"
    }
  },
  "nbformat" : 4,
  "nbformat_minor" : 0,
  "cells" : [
    {
      "cell_type" : "code",
      "execution_count" : 0,
      "metadata" : {
        "cell.metadata.exec_info" : {
          "startTs" : 1632858122174,
          "endTs" : 1632858122561
        },
        "language" : "scala"
      },
      "language" : "scala",
      "source" : [
        "val t = \"test\""
      ],
      "outputs" : [
      ]
    },
    {
      "cell_type" : "code",
      "execution_count" : 7,
      "metadata" : {
        "cell.metadata.exec_info" : {
          "startTs" : 1632858114096,
          "endTs" : 1632858114595
        },
        "language" : "scala"
      },
      "language" : "scala",
      "source" : [
        "val t = \"test2\""
      ],
      "outputs" : [
      ]
    },
    {
      "cell_type" : "code",
      "execution_count" : 2,
      "metadata" : {
        "cell.metadata.exec_info" : {
          "startTs" : 1632858103291,
          "endTs" : 1632858103625
        },
        "language" : "scala"
      },
      "language" : "scala",
      "source" : [
        "println(spark.version)"
      ],
      "outputs" : [
        {
          "name" : "stdout",
          "text" : [
            "3.1.2\n"
          ],
          "output_type" : "stream"
        }
      ]
    },
    {
      "cell_type" : "code",
      "execution_count" : 3,
      "metadata" : {
        "cell.metadata.exec_info" : {
          "startTs" : 1632856783178,
          "endTs" : 1632856810034
        },
        "language" : "scala"
      },
      "language" : "scala",
      "source" : [
        "spark.catalog.listTables.show(false)"
      ],
      "outputs" : [
        {
          "name" : "stdout",
          "text" : [
            "+--------------------------------+--------+-----------+---------+-----------+\n",
            "|name                            |database|description|tableType|isTemporary|\n",
            "+--------------------------------+--------+-----------+---------+-----------+\n",
            "|btl_departures_arrivals_airports|default |null       |EXTERNAL |false      |\n",
            "|btl_distances                   |default |null       |EXTERNAL |false      |\n",
            "|int_airports                    |default |null       |EXTERNAL |false      |\n",
            "+--------------------------------+--------+-----------+---------+-----------+\n",
            "\n"
          ],
          "output_type" : "stream"
        }
      ]
    },
    {
      "cell_type" : "code",
      "execution_count" : 4,
      "metadata" : {
        "cell.metadata.exec_info" : {
          "startTs" : 1632857954526,
          "endTs" : 1632857957514
        },
        "language" : "scala"
      },
      "language" : "scala",
      "source" : [
        "spark.table(\"default.btl_distances\").show"
      ],
      "outputs" : [
        {
          "name" : "stdout",
          "text" : [
            "+-------------------+-----------------+--------------------+------------------+------------------+-----------------+----------------+-----------------+------------------+---------------------+\n",
            "|estdepartureairport|estarrivalairport|            arr_name|  arr_latitude_deg| arr_longitude_deg|         dep_name|dep_latitude_deg|dep_longitude_deg|          distance|could_be_done_by_rail|\n",
            "+-------------------+-----------------+--------------------+------------------+------------------+-----------------+----------------+-----------------+------------------+---------------------+\n",
            "|               LSZB|             LEPA|Palma De Mallorca...|      39.551700592|     2.73881006241|Bern Belp Airport|    46.914100647|7.497149944309999|  904.446224553409|                false|\n",
            "|               LSZB|             LKER|    Erpužice Airport|49.802799224853516|13.038100242614746|Bern Belp Airport|    46.914100647|7.497149944309999| 520.1315237975622|                false|\n",
            "|               LSZB|             LSGC|Les Eplatures Air...|47.083900451699996| 6.792840003970001|Bern Belp Airport|    46.914100647|7.497149944309999| 56.65085347361135|                 true|\n",
            "|               LSZB|             LSGE|  Ecuvillens Airport|         46.755001|           7.07611|Bern Belp Airport|    46.914100647|7.497149944309999| 36.58926668294866|                 true|\n",
            "|               LSZB|             LSGE|  Ecuvillens Airport|         46.755001|           7.07611|Bern Belp Airport|    46.914100647|7.497149944309999| 36.58926668294866|                 true|\n",
            "|               LSZB|             LSTZ|Flugplatz Zweisimmen|         46.552502|           7.38056|Bern Belp Airport|    46.914100647|7.497149944309999|41.178039123614354|                 true|\n",
            "|               LSZB|             LSZB|   Bern Belp Airport|      46.914100647| 7.497149944309999|Bern Belp Airport|    46.914100647|7.497149944309999|               0.0|                 true|\n",
            "|               LSZB|             LSZB|   Bern Belp Airport|      46.914100647| 7.497149944309999|Bern Belp Airport|    46.914100647|7.497149944309999|               0.0|                 true|\n",
            "|               LSZB|             LSZB|   Bern Belp Airport|      46.914100647| 7.497149944309999|Bern Belp Airport|    46.914100647|7.497149944309999|               0.0|                 true|\n",
            "|               LSZB|             LSZB|   Bern Belp Airport|      46.914100647| 7.497149944309999|Bern Belp Airport|    46.914100647|7.497149944309999|               0.0|                 true|\n",
            "|               LSZB|             LSZB|   Bern Belp Airport|      46.914100647| 7.497149944309999|Bern Belp Airport|    46.914100647|7.497149944309999|               0.0|                 true|\n",
            "|               LSZB|             LSZB|   Bern Belp Airport|      46.914100647| 7.497149944309999|Bern Belp Airport|    46.914100647|7.497149944309999|               0.0|                 true|\n",
            "|               LSZB|             LSZB|   Bern Belp Airport|      46.914100647| 7.497149944309999|Bern Belp Airport|    46.914100647|7.497149944309999|               0.0|                 true|\n",
            "|               LSZB|             LSZB|   Bern Belp Airport|      46.914100647| 7.497149944309999|Bern Belp Airport|    46.914100647|7.497149944309999|               0.0|                 true|\n",
            "|               LSZB|             LSZB|   Bern Belp Airport|      46.914100647| 7.497149944309999|Bern Belp Airport|    46.914100647|7.497149944309999|               0.0|                 true|\n",
            "|               LSZB|             LSZB|   Bern Belp Airport|      46.914100647| 7.497149944309999|Bern Belp Airport|    46.914100647|7.497149944309999|               0.0|                 true|\n",
            "|               LSZB|             LSZB|   Bern Belp Airport|      46.914100647| 7.497149944309999|Bern Belp Airport|    46.914100647|7.497149944309999|               0.0|                 true|\n",
            "|               LSZB|             LSZB|   Bern Belp Airport|      46.914100647| 7.497149944309999|Bern Belp Airport|    46.914100647|7.497149944309999|               0.0|                 true|\n",
            "|               LSZB|             LSZG|    Grenchen Airport|         47.181599|           7.41719|Bern Belp Airport|    46.914100647|7.497149944309999| 30.35515950896725|                 true|\n",
            "|               LSZB|             LSZH|      Zürich Airport|         47.458056|          8.548056|Bern Belp Airport|    46.914100647|7.497149944309999| 99.82601283210911|                 true|\n",
            "+-------------------+-----------------+--------------------+------------------+------------------+-----------------+----------------+-----------------+------------------+---------------------+\n",
            "only showing top 20 rows\n",
            "\n"
          ],
          "output_type" : "stream"
        }
      ]
    },
    {
      "cell_type" : "code",
      "execution_count" : 5,
      "metadata" : {
        "cell.metadata.exec_info" : {
          "startTs" : 1632858316144,
          "endTs" : 1632858318081
        },
        "language" : "scala"
      },
      "language" : "scala",
      "source" : [
        "// load smartdatalake\r\n",
        "import io.smartdatalake.config.SdlConfigObject.stringToDataObjectId\r\n",
        "import io.smartdatalake.config.ConfigToolbox\r\n",
        "import io.smartdatalake.workflow.dataobject._\r\n",
        "import io.smartdatalake.workflow.ActionPipelineContext\r\n",
        "import io.smartdatalake.workflow.action.SDLExecutionId\r\n",
        "import io.smartdatalake.app.SmartDataLakeBuilderConfig\r\n",
        "import io.smartdatalake.workflow.ExecutionPhase\r\n",
        "implicit val context = ActionPipelineContext(\"test\", \"app\", SDLExecutionId.executionId1, registry, appConfig = SmartDataLakeBuilderConfig(\"test\", Some(\"app\")), phase = ExecutionPhase.Init)\r\n",
        "implicit val ss = spark"
      ],
      "outputs" : [
      ]
    },
    {
      "cell_type" : "code",
      "execution_count" : 8,
      "metadata" : {
        "cell.metadata.exec_info" : {
          "startTs" : 1632858635893,
          "endTs" : 1632858638914
        },
        "language" : "scala"
      },
      "language" : "scala",
      "source" : [
        "// read config from mounted directory\r\n",
        "val (registry, globalConfig) = ConfigToolbox.loadAndParseConfig(Seq(\"/mnt/config\"))"
      ],
      "outputs" : [
      ]
    },
    {
      "cell_type" : "code",
      "execution_count" : 9,
      "metadata" : {
        "cell.metadata.exec_info" : {
          "startTs" : 1632858616178,
          "endTs" : 1632858617170
        },
        "language" : "scala"
      },
      "language" : "scala",
      "source" : [
        "// get a dataobject\r\n",
        "val dataIntAirports = registry.get[DeltaLakeTableDataObject](\"int-airports\")"
      ],
      "outputs" : [
      ]
    },
    {
      "cell_type" : "code",
      "execution_count" : 10,
      "metadata" : {
        "cell.metadata.exec_info" : {
          "startTs" : 1632858638926,
          "endTs" : 1632858646714
        },
        "language" : "scala"
      },
      "language" : "scala",
      "source" : [
        "dataIntAirports.getDataFrame().show"
      ],
      "outputs" : [
        {
          "name" : "stdout",
          "text" : [
            "+-----+--------------------+------------------+-------------------+\n",
            "|ident|                name|      latitude_deg|      longitude_deg|\n",
            "+-----+--------------------+------------------+-------------------+\n",
            "|  00A|   Total Rf Heliport|    40.07080078125| -74.93360137939453|\n",
            "| 00AA|Aero B Ranch Airport|         38.704022|        -101.473911|\n",
            "| 00AK|        Lowell Field|         59.947733|        -151.692524|\n",
            "| 00AL|        Epps Airpark| 34.86479949951172| -86.77030181884766|\n",
            "| 00AR|Newport Hospital ...|           35.6087|         -91.254898|\n",
            "| 00AS|      Fulton Airport|        34.9428028|        -97.8180194|\n",
            "| 00AZ|      Cordes Airport|34.305599212646484|-112.16500091552734|\n",
            "| 00CA|Goldstone (GTS) A...|          35.35474|        -116.885329|\n",
            "| 00CL| Williams Ag Airport|         39.427188|        -121.763427|\n",
            "| 00CN|Kitchen Creek Hel...|        32.7273736|       -116.4597417|\n",
            "| 00CO|          Cass Field|         40.622202|        -104.344002|\n",
            "| 00FA| Grass Patch Airport| 28.64550018310547| -82.21900177001953|\n",
            "| 00FD|  Ringhaver Heliport|28.846599578857422| -82.34539794921875|\n",
            "| 00FL|   River Oak Airport|27.230899810791016| -80.96920013427734|\n",
            "| 00GA|    Lt World Airport| 33.76750183105469| -84.06829833984375|\n",
            "| 00GE|    Caffrey Heliport|         33.889245|          -84.73793|\n",
            "| 00HI|  Kaupulehu Heliport|         19.832715|        -155.980233|\n",
            "| 00ID|Delta Shores Airport|48.145301818847656|-116.21399688720703|\n",
            "| 00IG|       Goltl Airport|         39.724028|        -101.395994|\n",
            "| 00II|Bailey Generation...|         41.644501|         -87.122803|\n",
            "+-----+--------------------+------------------+-------------------+\n",
            "only showing top 20 rows\n",
            "\n"
          ],
          "output_type" : "stream"
        }
      ]
    }
  ]
}