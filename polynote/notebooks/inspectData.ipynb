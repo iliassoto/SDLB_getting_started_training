{
  "metadata" : {
    "config" : {
      "dependencies" : {
        
      },
      "exclusions" : [
      ],
      "repositories" : [
      ],
      "sparkConfig" : {
        "spark.ui.port" : "4140",
        "spark.sql.catalog.spark_catalog" : "org.apache.spark.sql.delta.catalog.DeltaCatalog",
        "spark.hadoop.javax.jdo.option.ConnectionDriverName" : "org.apache.derby.jdbc.ClientDriver",
        "spark.hadoop.javax.jdo.option.ConnectionPassword" : "1234",
        "spark.hadoop.javax.jdo.option.ConnectionURL" : "jdbc:derby://metastore:1527/db;create=true",
        "spark.hadoop.javax.jdo.option.ConnectionUserName" : "sa",
        "spark.sql.extensions" : "io.delta.sql.DeltaSparkSessionExtension"
      },
      "env" : {
        
      }
    },
    "language_info" : {
      "name" : "scala"
    }
  },
  "nbformat" : 4,
  "nbformat_minor" : 0,
  "cells" : [
    {
      "cell_type" : "markdown",
      "execution_count" : 0,
      "metadata" : {
        "language" : "text"
      },
      "language" : "text",
      "source" : [
        "# Airport Data Inspector\n",
        "\n",
        "\n",
        "Polynote provide the possibility to work with the data using: SQL, Scala, Python, or VegaSpec.\n",
        "\n",
        "\n",
        "In this notebook we have a first look to our data: tables are listed, a schema printed, and the growth of *int_departures* monitored.\n",
        "\n",
        "In general these notebooks are also very handy to develop new queries or transformation before applying them to the pipeline.<br>\n",
        "\n",
        "\n",
        "First list the table catalog:\n",
        "\n",
        "\n"
      ],
      "outputs" : [
      ]
    },
    {
      "cell_type" : "code",
      "execution_count" : 1,
      "metadata" : {
        "cell.metadata.exec_info" : {
          "startTs" : 1659698839882,
          "endTs" : 1659698849214
        },
        "language" : "scala"
      },
      "language" : "scala",
      "source" : [
        "spark.catalog.listTables.show(false)"
      ],
      "outputs" : [
      ]
    },
    {
      "cell_type" : "markdown",
      "execution_count" : 2,
      "metadata" : {
        "language" : "text"
      },
      "language" : "text",
      "source" : [
        "Let's inspect the structure of one table, let's say the int_departures table. <div>Then list the content (at least a few lines).</div>"
      ],
      "outputs" : [
      ]
    },
    {
      "cell_type" : "code",
      "execution_count" : 3,
      "metadata" : {
        "cell.metadata.exec_info" : {
          "startTs" : 1659605371841,
          "endTs" : 1659605385827
        },
        "language" : "scala"
      },
      "language" : "scala",
      "source" : [
        "val df_dep = spark.table(\"default.int_departures\")\r\n",
        "df_dep.printSchema"
      ],
      "outputs" : [
      ]
    },
    {
      "cell_type" : "code",
      "execution_count" : 4,
      "metadata" : {
        "cell.metadata.exec_info" : {
          "startTs" : 1659605385841,
          "endTs" : 1659605387699
        },
        "language" : "scala"
      },
      "language" : "scala",
      "source" : [
        "df_dep.show()"
      ],
      "outputs" : [
      ]
    },
    {
      "cell_type" : "markdown",
      "execution_count" : 5,
      "metadata" : {
        "language" : "text"
      },
      "language" : "text",
      "source" : [
        "Check the amount of rows downloaded per airport and the latest date. "
      ],
      "outputs" : [
      ]
    },
    {
      "cell_type" : "code",
      "execution_count" : 6,
      "metadata" : {
        "cell.metadata.exec_info" : {
          "startTs" : 1659605387713,
          "endTs" : 1659605390612
        },
        "language" : "scala"
      },
      "language" : "scala",
      "source" : [
        "import org.apache.spark.sql.functions.{min, max, count}\r\n",
        "import org.apache.spark.sql.Row\r\n",
        "\r\n",
        "val count = df_dep.count()\r\n",
        "\r\n",
        "import org.apache.spark.sql.functions._\r\n",
        "df_dep.groupBy($\"estdepartureairport\").agg(Map(\"icao24\"->\"count\", \"dt\"->\"max\") ).show()"
      ],
      "outputs" : [
      ]
    },
    {
      "cell_type" : "markdown",
      "execution_count" : 9,
      "metadata" : {
        "language" : "text"
      },
      "language" : "text",
      "source" : [
        "After additional runs of SDLB, again print the size and last value. <div>Use always a new cell for better comparison.</div>"
      ],
      "outputs" : [
      ]
    },
    {
      "cell_type" : "code",
      "execution_count" : 7,
      "metadata" : {
        "cell.metadata.exec_info" : {
          "startTs" : 1659605390626,
          "endTs" : 1659605391962
        },
        "language" : "scala"
      },
      "language" : "scala",
      "source" : [
        "df_dep.groupBy($\"estdepartureairport\").agg(Map(\"icao24\"->\"count\", \"dt\"->\"max\") ).show()"
      ],
      "outputs" : [
      ]
    },
    {
      "cell_type" : "code",
      "execution_count" : 8,
      "metadata" : {
        "cell.metadata.exec_info" : {
          "startTs" : 1659605391978,
          "endTs" : 1659605393130
        },
        "language" : "scala"
      },
      "language" : "scala",
      "source" : [
        "df_dep.groupBy($\"estdepartureairport\").agg(Map(\"icao24\"->\"count\", \"dt\"->\"max\") ).show()"
      ],
      "outputs" : [
      ]
    },
    {
      "cell_type" : "code",
      "execution_count" : 14,
      "metadata" : {
        "language" : "scala"
      },
      "language" : "scala",
      "source" : [
        "df_dep.groupBy($\"estdepartureairport\").agg(Map(\"icao24\"->\"count\", \"dt\"->\"max\") ).show()"
      ],
      "outputs" : [
      ]
    },
    {
      "cell_type" : "code",
      "execution_count" : 13,
      "metadata" : {
        "language" : "scala"
      },
      "language" : "scala",
      "source" : [
        "df_dep.groupBy($\"estdepartureairport\").agg(Map(\"icao24\"->\"count\", \"dt\"->\"max\") ).show()"
      ],
      "outputs" : [
      ]
    },
    {
      "cell_type" : "code",
      "execution_count" : 12,
      "metadata" : {
        "language" : "scala"
      },
      "language" : "scala",
      "source" : [
        "df_dep.groupBy($\"estdepartureairport\").agg(Map(\"icao24\"->\"count\", \"dt\"->\"max\") ).show()"
      ],
      "outputs" : [
      ]
    },
    {
      "cell_type" : "code",
      "execution_count" : 11,
      "metadata" : {
        "language" : "scala"
      },
      "language" : "scala",
      "source" : [
        "df_dep.groupBy($\"estdepartureairport\").agg(Map(\"icao24\"->\"count\", \"dt\"->\"max\") ).show()"
      ],
      "outputs" : [
      ]
    },
    {
      "cell_type" : "code",
      "execution_count" : 10,
      "metadata" : {
        "language" : "scala"
      },
      "language" : "scala",
      "source" : [
        "df_dep.groupBy($\"estdepartureairport\").agg(Map(\"icao24\"->\"count\", \"dt\"->\"max\") ).show()"
      ],
      "outputs" : [
      ]
    }
  ]
}