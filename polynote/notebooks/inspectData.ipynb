{
  "metadata" : {
    "config" : {
      "dependencies" : {
        
      },
      "exclusions" : [
      ],
      "repositories" : [
      ],
      "sparkConfig" : {
        "spark.ui.port" : "4140",
        "spark.sql.catalog.spark_catalog" : "org.apache.spark.sql.delta.catalog.DeltaCatalog",
        "spark.hadoop.javax.jdo.option.ConnectionDriverName" : "org.apache.derby.jdbc.ClientDriver",
        "spark.hadoop.javax.jdo.option.ConnectionPassword" : "1234",
        "spark.hadoop.javax.jdo.option.ConnectionURL" : "jdbc:derby://metastore:1527/db;create=true",
        "spark.hadoop.javax.jdo.option.ConnectionUserName" : "sa",
        "spark.sql.extensions" : "io.delta.sql.DeltaSparkSessionExtension"
      },
      "env" : {
        
      }
    },
    "language_info" : {
      "name" : "scala"
    }
  },
  "nbformat" : 4,
  "nbformat_minor" : 0,
  "cells" : [
    {
      "cell_type" : "markdown",
      "execution_count" : 0,
      "metadata" : {
        "language" : "text"
      },
      "language" : "text",
      "source" : [
        "# Inspect Data\n",
        "\n",
        "\n",
        "in this notebook we have a first look to our downloaded data. \n",
        "\n",
        "First list the table catalog:\n",
        "\n",
        "\n"
      ],
      "outputs" : [
      ]
    },
    {
      "cell_type" : "code",
      "execution_count" : 1,
      "metadata" : {
        "cell.metadata.exec_info" : {
          "startTs" : 1656494854081,
          "endTs" : 1656494860897
        },
        "language" : "scala"
      },
      "language" : "scala",
      "source" : [
        "spark.catalog.listTables.show(false)"
      ],
      "outputs" : [
        {
          "name" : "stdout",
          "text" : [
            "+--------------+--------+-----------+---------+-----------+\n",
            "|name          |database|description|tableType|isTemporary|\n",
            "+--------------+--------+-----------+---------+-----------+\n",
            "|int_departures|default |null       |EXTERNAL |false      |\n",
            "+--------------+--------+-----------+---------+-----------+\n",
            "\n"
          ],
          "output_type" : "stream"
        }
      ]
    },
    {
      "cell_type" : "code",
      "execution_count" : 2,
      "metadata" : {
        "cell.metadata.exec_info" : {
          "startTs" : 1656495017944,
          "endTs" : 1656495018810
        },
        "language" : "scala"
      },
      "language" : "scala",
      "source" : [
        "val df_dep = spark.table(\"default.int_departures\")\r\n",
        "df_dep.printSchema"
      ],
      "outputs" : [
        {
          "name" : "stdout",
          "text" : [
            "root\n",
            " |-- icao24: string (nullable = true)\n",
            " |-- firstSeen: integer (nullable = true)\n",
            " |-- estDepartureAirport: string (nullable = true)\n",
            " |-- lastSeen: integer (nullable = true)\n",
            " |-- estArrivalAirport: string (nullable = true)\n",
            " |-- callsign: string (nullable = true)\n",
            " |-- estDepartureAirportHorizDistance: integer (nullable = true)\n",
            " |-- estDepartureAirportVertDistance: integer (nullable = true)\n",
            " |-- estArrivalAirportHorizDistance: integer (nullable = true)\n",
            " |-- estArrivalAirportVertDistance: integer (nullable = true)\n",
            " |-- departureAirportCandidatesCount: integer (nullable = true)\n",
            " |-- arrivalAirportCandidatesCount: integer (nullable = true)\n",
            " |-- created_at: timestamp (nullable = true)\n",
            " |-- dt: string (nullable = true)\n",
            " |-- dl_ts_captured: timestamp (nullable = true)\n",
            "\n"
          ],
          "output_type" : "stream"
        }
      ]
    },
    {
      "cell_type" : "code",
      "execution_count" : 3,
      "metadata" : {
        "cell.metadata.exec_info" : {
          "startTs" : 1656495019462,
          "endTs" : 1656495022675
        },
        "language" : "scala"
      },
      "language" : "scala",
      "source" : [
        "df_dep.show()"
      ],
      "outputs" : [
        {
          "name" : "stdout",
          "text" : [
            "+------+----------+-------------------+----------+-----------------+--------+--------------------------------+-------------------------------+------------------------------+-----------------------------+-------------------------------+-----------------------------+--------------------+--------+--------------------+\n",
            "|icao24| firstSeen|estDepartureAirport|  lastSeen|estArrivalAirport|callsign|estDepartureAirportHorizDistance|estDepartureAirportVertDistance|estArrivalAirportHorizDistance|estArrivalAirportVertDistance|departureAirportCandidatesCount|arrivalAirportCandidatesCount|          created_at|      dt|      dl_ts_captured|\n",
            "+------+----------+-------------------+----------+-----------------+--------+--------------------------------+-------------------------------+------------------------------+-----------------------------+-------------------------------+-----------------------------+--------------------+--------+--------------------+\n",
            "|0100e6|1630243950|               EDDF|1630257678|             null|MSC2943 |                            2340|                             19|                          null|                         null|                              1|                            0|2022-06-29 06:52:...|20210829|2022-06-29 06:52:...|\n",
            "|0101ba|1630244897|               EDDF|1630257344|             null|MSR786  |                            1464|                             27|                          null|                         null|                              1|                            0|2022-06-29 06:52:...|20210829|2022-06-29 06:52:...|\n",
            "|020044|1630254210|               EDDF|1630265318|             GMMN|RAM811D |                            1660|                             19|                          1739|                           24|                              1|                            1|2022-06-29 06:52:...|20210829|2022-06-29 06:52:...|\n",
            "|02008b|1630305061|               EDDF|1630316170|             GMMN|RAM1813 |                            4344|                             19|                          1218|                           24|                              1|                            1|2022-06-29 06:52:...|20210830|2022-06-29 06:52:...|\n",
            "|02012c|1630217701|               EDDF|1630229219|             GMMN|RAM1813 |                            2367|                             27|                          1510|                           47|                              1|                            1|2022-06-29 06:52:...|20210829|2022-06-29 06:52:...|\n",
            "|02a196|1630234685|               EDDF|1630240192|             null|TAR745  |                            1239|                             27|                          null|                         null|                              1|                            0|2022-06-29 06:52:...|20210829|2022-06-29 06:52:...|\n",
            "|040171|1630268542|               EDDF|1630281918|             null|ETH707  |                            1413|                             27|                          null|                         null|                              1|                            0|2022-06-29 06:52:...|20210829|2022-06-29 06:52:...|\n",
            "|06a070|1630225663|               EDDF|1630246613|             OTHH|QTR2RU  |                            1752|                             27|                          2443|                          133|                              1|                            1|2022-06-29 06:52:...|20210829|2022-06-29 06:52:...|\n",
            "|06a12f|1630249050|               EDDF|1630269167|             OTHH|QTR56A  |                            1328|                             19|                          3015|                          164|                              1|                            1|2022-06-29 06:52:...|20210829|2022-06-29 06:52:...|\n",
            "|06a141|1630261827|               EDDF|1630281772|             OTHH|QTR321B |                             591|                             27|                          4383|                          217|                              1|                            1|2022-06-29 06:52:...|20210829|2022-06-29 06:52:...|\n",
            "|06a1ea|1630308244|               EDDF|1630327125|             OTHH|QTR38TB |                            1326|                             27|                          3973|                          187|                              1|                            1|2022-06-29 06:52:...|20210830|2022-06-29 06:52:...|\n",
            "|3003af|1630250282|               EDDF|1630253189|             LOWL|DLA4LN  |                            3787|                             26|                          2706|                           59|                              2|                            4|2022-06-29 06:52:...|20210829|2022-06-29 06:52:...|\n",
            "|300554|1630239423|               EDDF|1630243281|             LIRP|DLA4JF  |                            3830|                             34|                          3626|                          142|                              2|                            2|2022-06-29 06:52:...|20210829|2022-06-29 06:52:...|\n",
            "|300554|1630307813|               EDDF|1630310383|             LOWL|DLA44M  |                            4178|                             34|                          5411|                          219|                              1|                            4|2022-06-29 06:52:...|20210830|2022-06-29 06:52:...|\n",
            "|300780|1630247691|               EDDF|1630251414|             null|DLA1RX  |                            2899|                             34|                          null|                         null|                              2|                            0|2022-06-29 06:52:...|20210829|2022-06-29 06:52:...|\n",
            "|300782|1630248810|               EDDF|1630251619|             LIPO|DLA3HH  |                            2692|                             34|                         24430|                         1735|                              2|                            2|2022-06-29 06:52:...|20210829|2022-06-29 06:52:...|\n",
            "|344213|1630260695|               EDDF|1630269121|             LEMD|ANE87VH |                            2325|                             27|                          5292|                           22|                              1|                            3|2022-06-29 06:52:...|20210829|2022-06-29 06:52:...|\n",
            "|3452c8|1630229561|               EDDF|1630237985|             LEMD|ANE07EG |                            2283|                             34|                          4742|                           29|                              1|                            3|2022-06-29 06:52:...|20210829|2022-06-29 06:52:...|\n",
            "|3453cc|1630257750|               EDDF|1630265122|             LEMD|AEA60UM |                            1822|                             19|                          4992|                           22|                              1|                            3|2022-06-29 06:52:...|20210829|2022-06-29 06:52:...|\n",
            "|346603|1630249010|               LSZB|1630251724|             EDDF|GES061C |                             306|                             37|                           497|                           27|                              0|                            4|2022-06-29 06:52:...|20210829|2022-06-29 06:52:...|\n",
            "+------+----------+-------------------+----------+-----------------+--------+--------------------------------+-------------------------------+------------------------------+-----------------------------+-------------------------------+-----------------------------+--------------------+--------+--------------------+\n",
            "only showing top 20 rows\n",
            "\n"
          ],
          "output_type" : "stream"
        }
      ]
    },
    {
      "cell_type" : "code",
      "execution_count" : 4,
      "metadata" : {
        "cell.metadata.exec_info" : {
          "startTs" : 1656504056068,
          "endTs" : 1656504059244
        },
        "language" : "scala"
      },
      "language" : "scala",
      "source" : [
        "import org.apache.spark.sql.functions.{min, max}\r\n",
        "import org.apache.spark.sql.Row\r\n",
        "\r\n",
        "val count = df_dep.count()\r\n",
        "val Row(minValue: String, maxValue: String) = df_dep.agg(min(df_dep.col(\"dt\")), max(df_dep.col(\"dt\"))).head\r\n",
        "print(\"departure table consits of \"+count+\" row and entries are of original date: \"+minValue+\" \"+maxValue )"
      ],
      "outputs" : [
        {
          "name" : "stdout",
          "text" : [
            "departure table consits of 1744 row and entries are of original date: 20210829 20210903"
          ],
          "output_type" : "stream"
        }
      ]
    }
  ]
}